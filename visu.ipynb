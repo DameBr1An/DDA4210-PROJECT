{
 "cells": [
  {
   "cell_type": "code",
   "execution_count": null,
   "metadata": {},
   "outputs": [
    {
     "ename": "",
     "evalue": "",
     "output_type": "error",
     "traceback": [
      "\u001b[1;31m运行具有“base (Python 3.9.0)”的单元格需要ipykernel包。\n",
      "\u001b[1;31m运行以下命令，将 \"ipykernel\" 安装到 Python 环境中。\n",
      "\u001b[1;31m命令: \"conda install -n base ipykernel --update-deps --force-reinstall\""
     ]
    }
   ],
   "source": [
    "from analysis import ana\n",
    "\n",
    "with open(\"visual.txt\", 'w') as file:\n",
    "    for gamma in [0.1,0.25,0.5,0.75,0.9]:\n",
    "        for delta in [0,1,2,5,10]:\n",
    "            for T in [25, 50, 75, 100, 125, 150]:\n",
    "                result = ana(gamma, delta, T)\n",
    "                print(result)\n",
    "                file.write(str(result['gamma']) + ' ')\n",
    "                file.write(str(result['delta']) + ' ')\n",
    "                file.write(str(result['T']) + ' ')\n",
    "                file.write(str(result['z-score']) + '\\n')"
   ]
  }
 ],
 "metadata": {
  "kernelspec": {
   "display_name": "conda_env_base",
   "language": "python",
   "name": "base"
  },
  "language_info": {
   "codemirror_mode": {
    "name": "ipython",
    "version": 3
   },
   "file_extension": ".py",
   "mimetype": "text/x-python",
   "name": "python",
   "nbconvert_exporter": "python",
   "pygments_lexer": "ipython3",
   "version": "3.9.0"
  }
 },
 "nbformat": 4,
 "nbformat_minor": 2
}
