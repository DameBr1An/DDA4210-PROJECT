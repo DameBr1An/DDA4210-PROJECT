{
 "cells": [
  {
   "cell_type": "code",
   "execution_count": 1,
   "metadata": {},
   "outputs": [
    {
     "name": "stdout",
     "output_type": "stream",
     "text": [
      "gpu success\n",
      "prompt: phil jackson's reputed, patented triangle offense. what are the patterns and reads to the offense and what are the benefits from the perspective of a coach and/or player? what type of players do you need for this offense to be successful?\n"
     ]
    }
   ],
   "source": [
    "import utils\n",
    "from argparse import Namespace\n",
    "\n",
    "args = Namespace()\n",
    "args.generate_model=\"D:\\\\DDA4210\\\\facebookopt-1.3b\"\n",
    "args.util_model=\"D:\\\\DDA4210\\\\gpt\"\n",
    "args.prompts_name=\"lfqa.json\"\n",
    "args.prompt_index = 10\n",
    "args.use_gpu=True\n",
    "args.prompt_max_length = None\n",
    "args.max_new_tokens=200\n",
    "args.gamma=0.25\n",
    "args.delta=2.0\n",
    "args.detection_z_threshold=4.0\n",
    "args.generation_seed=42\n",
    "args.use_sampling=True\n",
    "args.sampling_temp=0.7\n",
    "args.n_beams=1\n",
    "args.normalizers=\"\"\n",
    "args.ignore_repeated_ngrams=False\n",
    "\n",
    "model, tokenizer, device, pplmodel, ppltokenizer = utils.load_model(args)\n",
    "\n",
    "original_answer, input_text = utils.load_prompts(args)\n",
    "print('prompt: ' + input_text)"
   ]
  },
  {
   "cell_type": "code",
   "execution_count": 6,
   "metadata": {},
   "outputs": [
    {
     "name": "stdout",
     "output_type": "stream",
     "text": [
      "#######################################\n",
      "generated without watermark: \n",
      "I don't know anything about this offense, but I'm pretty sure they only run it against the Lakers.\n",
      "#######################################\n",
      "generated with watermark: \n",
      "\n",
      "The triangle offense was devised by Phil Jackson as a way to attack the weak side of the defense. The triangle consists of a power forward, a center, and a guard. The power forward is the primary scorer while the center is the primary rebounder. The guard is the primary playmaker while the power forward is the primary distributor.\n",
      "\n",
      "The triangle offense was devised by Phil Jackson as a way to attack the weak side of the defense. The triangle consists of a power forward, a center, and a guard. The power forward is the primary scorer while the center is the primary rebounder. The guard is the primary playmaker while the power forward is the primary distributor.\n",
      "\n",
      "The triangle offense was devised by Phil Jackson as a way to attack the weak side of the defense. The triangle consists of a power forward, a center, and a guard. The power forward is the primary scorer while the center is the primary rebounder. The guard is the primary playmaker while the\n",
      "#######################################\n",
      "rewritten with watermark:  power forward is the primary distributor.\n",
      "#######################################\n",
      "refined with watermark:  center is the primary distributor.\n"
     ]
    }
   ],
   "source": [
    "without_wm, with_wm= utils.generate(input_text, \n",
    "                                        args, \n",
    "                                        model=model, \n",
    "                                        device=device, \n",
    "                                        tokenizer=tokenizer)\n",
    "print('#######################################')\n",
    "print('generated without watermark: ' + without_wm)\n",
    "print('#######################################')\n",
    "print('generated with watermark: ' + with_wm)\n",
    "rewritten_wm = utils.attack(with_wm)\n",
    "print('#######################################')\n",
    "print('rewritten with watermark: ' + rewritten_wm)\n",
    "refined_wm = utils.refine(with_wm)\n",
    "print('#######################################')\n",
    "print('refined with watermark: ' + refined_wm)"
   ]
  },
  {
   "cell_type": "code",
   "execution_count": 3,
   "metadata": {},
   "outputs": [
    {
     "name": "stdout",
     "output_type": "stream",
     "text": [
      "detect finished\n",
      "#######################################\n",
      "watermark words: ['The', 'was', 'devised', 'Phil', 'as', 'attack', 'weak', 'side', 'The', 'consists', 'power', 'guard', 'The', 'power', 'primary', 'scorer', 'while', 'primary', 'rebound', 'The', 'guard', 'primary', 'play', 'while', 'power', 'primary', 'distributor', 'The', 'was', 'devised', 'Phil', 'as', 'attack', 'weak', 'side', 'The', 'consists', 'power', 'guard', 'The', 'power', 'primary', 'scorer', 'while', 'primary', 'rebound', 'The', 'guard', 'primary', 'play', 'while', 'power', 'primary', 'distributor', 'The', 'was', 'devised', 'Phil', 'as', 'attack', 'weak', 'side', 'The', 'consists', 'power', 'guard', 'The', 'power', 'primary', 'scorer', 'while', 'primary', 'rebound', 'The', 'guard', 'primary', 'play', 'while']\n"
     ]
    }
   ],
   "source": [
    "without_wm_detection = utils.detect(without_wm, \n",
    "                                    args, \n",
    "                                    device=device, \n",
    "                                    model = model,\n",
    "                                    tokenizer=tokenizer)\n",
    "with_wm_detection = utils.detect(with_wm, \n",
    "                                args, \n",
    "                                device=device, \n",
    "                                model = model,\n",
    "                                tokenizer=tokenizer)\n",
    "rewritten_with_wm_detection = utils.detect(rewritten_wm, \n",
    "                                        args, \n",
    "                                        device=device, \n",
    "                                        model = model,\n",
    "                                        tokenizer=tokenizer)\n",
    "print('detect finished')\n",
    "\n",
    "print('#######################################')\n",
    "print('watermark words:' , with_wm_detection[4][1])"
   ]
  },
  {
   "cell_type": "code",
   "execution_count": 4,
   "metadata": {},
   "outputs": [
    {
     "name": "stdout",
     "output_type": "stream",
     "text": [
      "compute perplexity finished\n"
     ]
    }
   ],
   "source": [
    "ppl_without_wm = utils.compute_ppl(without_wm, \n",
    "                                    args,\n",
    "                                    model=pplmodel,\n",
    "                                    device=device, \n",
    "                                    tokenizer=ppltokenizer)\n",
    "ppl_with_wm = utils.compute_ppl(with_wm,\n",
    "                                args,\n",
    "                                model=pplmodel,\n",
    "                                device=device, \n",
    "                                tokenizer=ppltokenizer)\n",
    "ppl_rewritten_with_wm = utils.compute_ppl(rewritten_wm,\n",
    "                                args,\n",
    "                                model=pplmodel,\n",
    "                                device=device, \n",
    "                                tokenizer=ppltokenizer)\n",
    "print('compute perplexity finished')"
   ]
  },
  {
   "cell_type": "code",
   "execution_count": 5,
   "metadata": {},
   "outputs": [
    {
     "name": "stdout",
     "output_type": "stream",
     "text": [
      "{'gamma': 0.25, 'delta': 2.0, 'z_threshold': 4.0, 'T_with_watermark': '84', 'z_with_watermark': '5.55', 'p_with_watermark': '1.41e-08', 'prediction_with_watermark': 'True', 'ppl_with_watermark': tensor(132.1930), 'T_without_watermark': '35', 'z_without_watermark': '0.612', 'p_without_watermark': '0.27', 'prediction_without_watermark': 'False', 'ppl_without_watermark': tensor(5.5673), 'T_attack': '3', 'z_attack': '1.09', 'p_attack': '0.138', 'prediction_attack': 'False', 'ppl_attack': tensor(8.0582)}\n"
     ]
    }
   ],
   "source": [
    "analysis = {}\n",
    "analysis['gamma'] = args.gamma\n",
    "analysis['delta'] = args.delta\n",
    "analysis['z_threshold'] = args.detection_z_threshold\n",
    "\n",
    "analysis['T_with_watermark'] = with_wm_detection[0][1]\n",
    "analysis['z_with_watermark'] = with_wm_detection[2][1]\n",
    "analysis['p_with_watermark'] = with_wm_detection[3][1]\n",
    "analysis['prediction_with_watermark'] = with_wm_detection[6][1]\n",
    "# analysis['confidence_with_watermark'] = with_wm_detection[7][1]\n",
    "analysis['ppl_with_watermark'] = ppl_with_wm\n",
    "\n",
    "analysis['T_without_watermark'] = without_wm_detection[0][1]\n",
    "analysis['z_without_watermark'] = without_wm_detection[2][1]\n",
    "analysis['p_without_watermark'] = without_wm_detection[3][1]\n",
    "analysis['prediction_without_watermark'] = without_wm_detection[6][1]\n",
    "analysis['ppl_without_watermark'] = ppl_without_wm\n",
    "\n",
    "analysis['T_attack'] = rewritten_with_wm_detection[0][1]\n",
    "analysis['z_attack'] = rewritten_with_wm_detection[2][1]\n",
    "analysis['p_attack'] = rewritten_with_wm_detection[3][1]\n",
    "analysis['prediction_attack'] = rewritten_with_wm_detection[6][1]\n",
    "analysis['ppl_attack'] = ppl_rewritten_with_wm\n",
    "\n",
    "print(analysis)"
   ]
  }
 ],
 "metadata": {
  "kernelspec": {
   "display_name": "conda_env_base",
   "language": "python",
   "name": "base"
  },
  "language_info": {
   "codemirror_mode": {
    "name": "ipython",
    "version": 3
   },
   "file_extension": ".py",
   "mimetype": "text/x-python",
   "name": "python",
   "nbconvert_exporter": "python",
   "pygments_lexer": "ipython3",
   "version": "3.9.0"
  }
 },
 "nbformat": 4,
 "nbformat_minor": 2
}
