{
 "cells": [
  {
   "cell_type": "code",
   "execution_count": 1,
   "metadata": {},
   "outputs": [
    {
     "name": "stdout",
     "output_type": "stream",
     "text": [
      "gpu success\n",
      "prompt: Does elevation change affect birds the same way it affects humans? (Or any other land animal for that matter)\n"
     ]
    }
   ],
   "source": [
    "import utils\n",
    "from argparse import Namespace\n",
    "\n",
    "args = Namespace()\n",
    "args.generate_model=\"D:\\\\DDA4210\\\\facebookopt-1.3b\"\n",
    "args.ppl_model=\"D:\\\\DDA4210\\\\gpt\"\n",
    "args.prompts_name=\"lfqa.json\"\n",
    "args.use_gpu=True\n",
    "args.prompt_max_length = None\n",
    "args.max_new_tokens=200\n",
    "args.min_new_tokens=50\n",
    "args.gamma=0.25\n",
    "args.delta=2.0\n",
    "args.detection_z_threshold=4.0\n",
    "args.generation_seed=42\n",
    "args.normalizers=\"\"\n",
    "args.ignore_repeated_ngrams=False\n",
    "\n",
    "model, tokenizer, device, pplmodel, ppltokenizer = utils.load_model(args)\n",
    "\n",
    "input_text = utils.load_prompts()\n",
    "print('prompt: ' + input_text)"
   ]
  },
  {
   "cell_type": "code",
   "execution_count": 2,
   "metadata": {},
   "outputs": [
    {
     "name": "stdout",
     "output_type": "stream",
     "text": [
      "#######################################\n",
      "generated without watermark:   I mean, you'd think that if it's a lot more difficult to fly around in the air, it's harder to eat.\n",
      "I think you'd have to look it up, but I believe that there is a general consensus that it is.   I have never seen it mentioned as a negative, but I have also never seen any negative studies on the subject (I work with birds regularly).\n",
      "#######################################\n",
      "generated with watermark: \n",
      "Yes, there is some evidence that the heat from land animals contributes to climatic changes (I think it is more to do with humidity changes due to changes in air pressure).\n",
      "Are there any accounts of changes in what land animals eat that have been published? Have there been changes to what land animals eat due to changes in elevation?\n",
      "I think there have been some reports that have suggested that heat from land animals contributes to changes in the composition of food stocks (I think that is due to changes in water availability due to changes in air pressure), but there is some debate about whether there is a connection between these changes and changes to land animal diets.\n",
      "I remember seeing that research that showed that the heat from land animals is what impacts the composition of land animals, especially for those that live at high elevations (I think it was for snow geese in Colorado, that is what I remember seeing)\n",
      "I think that is true for some species (I think that is what the research\n",
      "#######################################\n",
      "paraphrasing with watermark:  suggests), but it may not be a universal phenomenon for all land animals.\n",
      "#######################################\n",
      "substitution with watermark: Yes, on_that_point is some evidence that the heat from land animals contributes to climatical commute (I think it is more to do with humidity changes due to changes inwards line pressure). Are there any accounts of changes in what land animals deplete that have represent published? get there been commute to what land animals eat imputable to changes in elevation? 1 cogitate thither have represent approximately reports that take intimate that inflame from demesne animals contribute to changes in the composition of food ancestry (I guess that is imputable to changes in piddle availability due to changes in air pressure), simply on_that_point comprise some debate just_about whether there is a connection between these changes and change to land animal diets. I recollect seeing that research that showed that the heat from landed_estate animals embody what bear_upon the piece of land animals, particularly for those that live at high elevations (I guess IT was for snow fathead in Colorado, that represent what I remember seeing) i think that is true for some species (I cerebrate that live what the inquiry\n"
     ]
    }
   ],
   "source": [
    "without_wm, with_wm= utils.generate(input_text, \n",
    "                                        args, \n",
    "                                        model=model, \n",
    "                                        device=device, \n",
    "                                        tokenizer=tokenizer)\n",
    "print('#######################################')\n",
    "print('generated without watermark: ' + without_wm)\n",
    "print('#######################################')\n",
    "print('generated with watermark: ' + with_wm)\n",
    "paraphrasing_wm = utils.paraphrasing_attack(with_wm)\n",
    "print('#######################################')\n",
    "print('paraphrasing with watermark: ' + paraphrasing_wm)\n",
    "substitution_wm = utils.substitution_attack(with_wm)\n",
    "print('#######################################')\n",
    "print('substitution with watermark: ' + substitution_wm)"
   ]
  },
  {
   "cell_type": "code",
   "execution_count": 6,
   "metadata": {},
   "outputs": [
    {
     "name": "stdout",
     "output_type": "stream",
     "text": [
      "detect finished\n",
      "#######################################\n",
      "watermark words: ['Yes', 'there', 'is', 'some', 'evidence', 'that', 'heat', 'land', 'contributes', 'to', 'clim', 'changes', '(I', 'think', 'is', 'to', 'humidity', 'changes', 'due', 'to', 'changes', 'air', 'Are', 'there', 'accounts', 'changes', 'what', 'land', 'that', 'have?', 'Have', 'there', 'changes', 'to', 'what', 'land', 'due', 'to', 'changes?', 'I', 'think', 'there', 'have', 'some', 'reports', 'that', 'have', 'suggested', 'that', 'heat', 'land', 'contributes', 'to', 'changes', 'composition', 'stocks', '(I', 'think', 'that', 'is', 'due', 'to', 'changes', 'due', 'to', 'changes', 'air),', 'there', 'is', 'some', 'debate', 'about', 'whether', 'there', 'is', 'connection', 'changes', 'changes', 'to', 'land', 'diets', 'I', 'remember', 'seeing', 'that', 'research', 'that', 'showed', 'that', 'heat', 'land', 'is', 'what', 'impacts', 'composition', 'land', 'especially', 'for', 'that', 'live', 'at', 'elev', '(I', 'think', 'for', 'snow', 'ge', 'Colorado', 'that', 'is', 'what', 'remember', 'seeing', 'I', 'think', 'that', 'is', 'true', 'for', 'some', '(I', 'think', 'that', 'is', 'what', 'research']\n"
     ]
    }
   ],
   "source": [
    "without_wm_detection = utils.detect(without_wm, \n",
    "                                    args, \n",
    "                                    device=device, \n",
    "                                    model = model,\n",
    "                                    tokenizer=tokenizer)\n",
    "with_wm_detection = utils.detect(with_wm, \n",
    "                                args, \n",
    "                                device=device, \n",
    "                                model = model,\n",
    "                                tokenizer=tokenizer)\n",
    "rewritten_with_wm_detection = utils.detect(paraphrasing_wm, \n",
    "                                        args, \n",
    "                                        device=device, \n",
    "                                        model = model,\n",
    "                                        tokenizer=tokenizer)\n",
    "print('detect finished')\n",
    "\n",
    "print('#######################################')\n",
    "print('watermark words:' , with_wm_detection[4][1])"
   ]
  },
  {
   "cell_type": "code",
   "execution_count": 7,
   "metadata": {},
   "outputs": [
    {
     "name": "stdout",
     "output_type": "stream",
     "text": [
      "compute perplexity finished\n"
     ]
    }
   ],
   "source": [
    "ppl_without_wm = utils.compute_ppl(without_wm, \n",
    "                                    args,\n",
    "                                    model=pplmodel,\n",
    "                                    device=device, \n",
    "                                    tokenizer=ppltokenizer)\n",
    "ppl_with_wm = utils.compute_ppl(with_wm,\n",
    "                                args,\n",
    "                                model=pplmodel,\n",
    "                                device=device, \n",
    "                                tokenizer=ppltokenizer)\n",
    "ppl_rewritten_with_wm = utils.compute_ppl(paraphrasing_wm,\n",
    "                                args,\n",
    "                                model=pplmodel,\n",
    "                                device=device, \n",
    "                                tokenizer=ppltokenizer)\n",
    "print('compute perplexity finished')"
   ]
  },
  {
   "cell_type": "code",
   "execution_count": 8,
   "metadata": {},
   "outputs": [
    {
     "name": "stdout",
     "output_type": "stream",
     "text": [
      "{'gamma': 0.25, 'delta': 2.0, 'z_threshold': 4.0, 'T_with_watermark': '138', 'z_with_watermark': '14.4', 'p_with_watermark': '3.97e-47', 'prediction_with_watermark': 'True', 'ppl_with_watermark': tensor(4.4327), 'T_without_watermark': '25', 'z_without_watermark': '1.08', 'p_without_watermark': '0.141', 'prediction_without_watermark': 'False', 'ppl_without_watermark': tensor(0.5306), 'T_attack': '5', 'z_attack': '0.745', 'p_attack': '0.228', 'prediction_attack': 'False', 'ppl_attack': tensor(1.3963)}\n"
     ]
    }
   ],
   "source": [
    "analysis = {}\n",
    "analysis['gamma'] = args.gamma\n",
    "analysis['delta'] = args.delta\n",
    "analysis['z_threshold'] = args.detection_z_threshold\n",
    "\n",
    "analysis['T_with_watermark'] = with_wm_detection[0][1]\n",
    "analysis['z_with_watermark'] = with_wm_detection[2][1]\n",
    "analysis['p_with_watermark'] = with_wm_detection[3][1]\n",
    "analysis['prediction_with_watermark'] = with_wm_detection[6][1]\n",
    "# analysis['confidence_with_watermark'] = with_wm_detection[7][1]\n",
    "analysis['ppl_with_watermark'] = ppl_with_wm\n",
    "\n",
    "analysis['T_without_watermark'] = without_wm_detection[0][1]\n",
    "analysis['z_without_watermark'] = without_wm_detection[2][1]\n",
    "analysis['p_without_watermark'] = without_wm_detection[3][1]\n",
    "analysis['prediction_without_watermark'] = without_wm_detection[6][1]\n",
    "analysis['ppl_without_watermark'] = ppl_without_wm\n",
    "\n",
    "analysis['T_attack'] = rewritten_with_wm_detection[0][1]\n",
    "analysis['z_attack'] = rewritten_with_wm_detection[2][1]\n",
    "analysis['p_attack'] = rewritten_with_wm_detection[3][1]\n",
    "analysis['prediction_attack'] = rewritten_with_wm_detection[6][1]\n",
    "analysis['ppl_attack'] = ppl_rewritten_with_wm\n",
    "\n",
    "print(analysis)"
   ]
  }
 ],
 "metadata": {
  "kernelspec": {
   "display_name": "conda_env_base",
   "language": "python",
   "name": "base"
  },
  "language_info": {
   "codemirror_mode": {
    "name": "ipython",
    "version": 3
   },
   "file_extension": ".py",
   "mimetype": "text/x-python",
   "name": "python",
   "nbconvert_exporter": "python",
   "pygments_lexer": "ipython3",
   "version": "3.9.0"
  }
 },
 "nbformat": 4,
 "nbformat_minor": 2
}
